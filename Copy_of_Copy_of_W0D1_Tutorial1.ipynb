{
  "nbformat": 4,
  "nbformat_minor": 0,
  "metadata": {
    "colab": {
      "name": "Copy of Copy of W0D1_Tutorial1",
      "provenance": [],
      "collapsed_sections": [],
      "toc_visible": true,
      "include_colab_link": true
    },
    "kernel": {
      "display_name": "Python 3",
      "language": "python",
      "name": "python3"
    },
    "kernelspec": {
      "display_name": "Python 3",
      "language": "python",
      "name": "python3"
    },
    "language_info": {
      "codemirror_mode": {
        "name": "ipython",
        "version": 3
      },
      "file_extension": ".py",
      "mimetype": "text/x-python",
      "name": "python",
      "nbconvert_exporter": "python",
      "pygments_lexer": "ipython3",
      "version": "3.7.8"
    }
  },
  "cells": [
    {
      "cell_type": "markdown",
      "metadata": {
        "id": "view-in-github",
        "colab_type": "text"
      },
      "source": [
        "<a href=\"https://colab.research.google.com/github/NataMax/Class-10_Sep24_2018/blob/master/Copy_of_Copy_of_W0D1_Tutorial1.ipynb\" target=\"_parent\"><img src=\"https://colab.research.google.com/assets/colab-badge.svg\" alt=\"Open In Colab\"/></a>"
      ]
    },
    {
      "cell_type": "markdown",
      "metadata": {
        "id": "E19VjOEaIFdv"
      },
      "source": [
        "# Neuromatch Academy: Week 0, Day 1, Tutorial 1\n",
        "# Python for NMA - LIF Neuron - Part I\n",
        "\n",
        "__Content creators:__ Marco Brigham and the [CCNSS](https://www.ccnss.org/) team\n",
        "\n",
        "__Content reviewers:__ Michael Waskom, Karolina Stosio, Spiros Chavlis"
      ]
    },
    {
      "cell_type": "markdown",
      "metadata": {
        "id": "cttWW3J3IFd1"
      },
      "source": [
        "---\n",
        "## Tutorial objectives\n",
        "NMA students, you are going to use Python skills to advance your understanding of neuroscience. Just like two legs that support and strengthen each other. One has \"Python\" written in it, and the other has \"Neuro\". And step-by-step they go.\n",
        "\n",
        "&nbsp; \n",
        "\n",
        "In this notebook, we'll practice basic operations with Python variables, control flow, plotting, and a sneak peek at `np.array`, the workhorse of scientific computation in Python.\n",
        "\n",
        "&nbsp; \n",
        "\n",
        "Each new concept in Python will unlock a different aspect of our implementation of a **Leaky Integrate-and-Fire (LIF)** neuron. And as if it couldn't get any better, we'll visualize the evolution of its membrane potential in time, and extract its statistical properties!\n",
        "\n",
        "&nbsp; \n",
        "\n",
        "Well then, let's start our walk today!"
      ]
    },
    {
      "cell_type": "markdown",
      "metadata": {
        "id": "cHWqlU36IFd2"
      },
      "source": [
        "---\n",
        "## Imports and helper functions\n",
        "Please execute the cell(s) below to initialize the notebook environment."
      ]
    },
    {
      "cell_type": "code",
      "metadata": {
        "cellView": "both",
        "id": "ZRiqrmsXIFd2"
      },
      "source": [
        "# Import libraries\n",
        "import numpy as np\n",
        "import matplotlib.pyplot as plt\n",
        "from IPython.display import YouTubeVideo"
      ],
      "execution_count": null,
      "outputs": []
    },
    {
      "cell_type": "code",
      "metadata": {
        "cellView": "form",
        "id": "S6THcdQnIFd2",
        "colab": {
          "base_uri": "https://localhost:8080/",
          "height": 197
        },
        "outputId": "ab8239d2-d95c-4b59-af9e-0e8e9f7e213c"
      },
      "source": [
        "# @title Figure settings\n",
        "\n",
        "%config InlineBackend.figure_format = 'retina'\n",
        "\n",
        "plt.style.use(\"https://raw.githubusercontent.com/NeuromatchAcademy/course-content/master/nma.mplstyle\")"
      ],
      "execution_count": null,
      "outputs": [
        {
          "output_type": "error",
          "ename": "NameError",
          "evalue": "ignored",
          "traceback": [
            "\u001b[0;31m---------------------------------------------------------------------------\u001b[0m",
            "\u001b[0;31mNameError\u001b[0m                                 Traceback (most recent call last)",
            "\u001b[0;32m<ipython-input-6-ce5a3600cac7>\u001b[0m in \u001b[0;36m<module>\u001b[0;34m()\u001b[0m\n\u001b[1;32m      3\u001b[0m \u001b[0mget_ipython\u001b[0m\u001b[0;34m(\u001b[0m\u001b[0;34m)\u001b[0m\u001b[0;34m.\u001b[0m\u001b[0mmagic\u001b[0m\u001b[0;34m(\u001b[0m\u001b[0;34m\"config InlineBackend.figure_format = 'retina'\"\u001b[0m\u001b[0;34m)\u001b[0m\u001b[0;34m\u001b[0m\u001b[0;34m\u001b[0m\u001b[0m\n\u001b[1;32m      4\u001b[0m \u001b[0;34m\u001b[0m\u001b[0m\n\u001b[0;32m----> 5\u001b[0;31m \u001b[0mplt\u001b[0m\u001b[0;34m.\u001b[0m\u001b[0mstyle\u001b[0m\u001b[0;34m.\u001b[0m\u001b[0muse\u001b[0m\u001b[0;34m(\u001b[0m\u001b[0;34m\"https://raw.githubusercontent.com/NeuromatchAcademy/course-content/master/nma.mplstyle\"\u001b[0m\u001b[0;34m)\u001b[0m\u001b[0;34m\u001b[0m\u001b[0;34m\u001b[0m\u001b[0m\n\u001b[0m",
            "\u001b[0;31mNameError\u001b[0m: name 'plt' is not defined"
          ]
        }
      ]
    },
    {
      "cell_type": "markdown",
      "metadata": {
        "id": "NweMCsv3IFd3"
      },
      "source": [
        "---\n",
        "## Neuron model\n",
        "A *membrane equation* and a *reset condition* define our *leaky-integrate-and-fire (LIF)* neuron:\n",
        "\n",
        "\n",
        "\\begin{align*}\n",
        "\\\\\n",
        "&\\tau_m\\,\\frac{d}{dt}\\,V(t) = E_{L} - V(t) + R\\,I(t) &\\text{if }\\quad V(t) \\leq V_{th}\\\\\n",
        "\\\\\n",
        "&V(t) = V_{reset} &\\text{otherwise}\\\\\n",
        "\\\\\n",
        "\\end{align*}\n",
        "\n",
        "where $V(t)$ is the membrane potential, $\\tau_m$ is the membrane time constant, $E_{L}$ is the leak potential, $R$ is the membrane resistance, $I(t)$ is the synaptic input current, $V_{th}$ is the firing threshold, and $V_{reset}$ is the reset voltage. We can also write $V_m$ for membrane potential - very convenient for plot labels.\n",
        "\n",
        "The membrane equation is an *ordinary differential equation (ODE)* that describes the time evolution of membrane potential $V(t)$ in response to synaptic input and leaking of change across the cell membrane.\n",
        "\n",
        "**Note that, in this tutorial the neuron model will not implement a spiking mechanism.**"
      ]
    },
    {
      "cell_type": "code",
      "metadata": {
        "cellView": "form",
        "id": "dCuj1YzCIFd3",
        "colab": {
          "base_uri": "https://localhost:8080/",
          "height": 518
        },
        "outputId": "fba84cb9-e7ae-4072-beaa-afc89feac2f4"
      },
      "source": [
        "# @title Video: Synaptic input\n",
        "video = YouTubeVideo(id='UP8rD2AwceM', width=854, height=480, fs=1)\n",
        "print(\"Video available at https://youtube.com/watch?v=\" + video.id)\n",
        "video"
      ],
      "execution_count": null,
      "outputs": [
        {
          "output_type": "stream",
          "text": [
            "Video available at https://youtube.com/watch?v=UP8rD2AwceM\n"
          ],
          "name": "stdout"
        },
        {
          "output_type": "execute_result",
          "data": {
            "text/html": [
              "\n",
              "        <iframe\n",
              "            width=\"854\"\n",
              "            height=\"480\"\n",
              "            src=\"https://www.youtube.com/embed/UP8rD2AwceM?fs=1\"\n",
              "            frameborder=\"0\"\n",
              "            allowfullscreen\n",
              "        ></iframe>\n",
              "        "
            ],
            "text/plain": [
              "<IPython.lib.display.YouTubeVideo at 0x7f132fab4250>"
            ],
            "image/jpeg": "[encoded data removed]"
          },
          "metadata": {
            "tags": []
          },
          "execution_count": 11
        }
      ]
    },
    {
      "cell_type": "markdown",
      "metadata": {
        "id": "-alZ8EZsIFd3"
      },
      "source": [
        "### Exercise 1\n",
        "We start by defining and initializing the main simulation variables.\n",
        "\n",
        "**Suggestions**\n",
        "* Modify the code below to print the simulation parameters"
      ]
    },
    {
      "cell_type": "code",
      "metadata": {
        "colab": {
          "base_uri": "https://localhost:8080/"
        },
        "id": "vmNhffD5IFd4",
        "outputId": "e0454b7f-9560-4725-c195-0ee58d3907fc"
      },
      "source": [
        " t_max = 150e-3   # second\n",
        "dt = 1e-3        # second\n",
        "tau = 20e-3      # second\n",
        " el = -60e-3      # milivolt\n",
        "vr = -70e-3      # milivolt\n",
        " vth = -50e-3     # milivolt\n",
        " r = 100e6        # ohm\n",
        " i_mean = 25e-11  # ampere\n",
        "\n",
        " print(t_max, dt, tau, el, vr, vth, r, i_mean)"
      ],
      "execution_count": null,
      "outputs": [
        {
          "output_type": "stream",
          "text": [
            "0.15 0.001 0.02 -0.06 -0.07 -0.05 100000000.0 2.5e-10\n"
          ],
          "name": "stdout"
        }
      ]
    },
    {
      "cell_type": "markdown",
      "metadata": {
        "id": "ZHNTBYe7IFd4"
      },
      "source": [
        "**SAMPLE OUTPUT**\n",
        "\n",
        "```\n",
        "0.15 0.001 0.02 -0.06 -0.07 -0.05 100000000.0 2.5e-10\n",
        "```"
      ]
    },
    {
      "cell_type": "markdown",
      "metadata": {
        "cellView": "code",
        "outputId": "6c099fca-bcc1-4653-872e-4b0ec6643834",
        "id": "XDSpWi6mIFd4"
      },
      "source": [
        "[*Click for solution*](https://github.com/NeuromatchAcademy/course-content/tree/master//tutorials/W0D1_PythonWorkshop1/solutions/W0D1_Tutorial1_Solution_4adeccd3.py)\n",
        "\n"
      ]
    },
    {
      "cell_type": "markdown",
      "metadata": {
        "id": "3vkqajnJIFd4"
      },
      "source": [
        "### Exercise 2\n",
        "![synaptic input](https://github.com/mpbrigham/colaboratory-figures/raw/master/nma/python-for-nma/synaptic_input.png)\n",
        "\n",
        "We start with a sinusoidal model to simulate the synaptic input $I(t)$ given by:\n",
        "\\begin{align*}\n",
        "\\\\\n",
        "I(t)=I_{mean}\\left(1+\\sin\\left(\\frac{2 \\pi}{0.01}\\,t\\right)\\right)\\\\\n",
        "\\\\\n",
        "\\end{align*}\n",
        "\n",
        "Compute the values of synaptic input $I(t)$ between $t=0$ and $t=0.009$ with step $\\Delta t=0.001$.\n",
        "\n",
        "**Suggestions**\n",
        "* Loop variable `step` for 10 steps (`step` takes values from `0` to `9`)\n",
        "* At each time step\n",
        "    * Compute the value of `t` with variables `step` and `dt`\n",
        "    * Compute the value of `i`\n",
        "    * Print `i`\n",
        "* Use `np.pi` and `np.sin` for evaluating $\\pi$ and $\\sin(\\cdot)$, respectively"
      ]
    },
    {
      "cell_type": "code",
      "metadata": {
        "colab": {
          "base_uri": "https://localhost:8080/"
        },
        "id": "OfnD2soKIFd5",
        "outputId": "32844f61-784f-4dfa-a009-f6049d6b5b12"
      },
      "source": [
        "# initialize t\n",
        "t = 0\n",
        "\n",
        "# loop for 10 steps, variable 'step' takes values from 0 to 9\n",
        "for step in range(10):\n",
        "  t = step * dt\n",
        "  i = i_mean*(1+np.sin((2*np.pi/0.01)*t))\n",
        "\n",
        "  print(i)"
      ],
      "execution_count": null,
      "outputs": [
        {
          "output_type": "stream",
          "text": [
            "2.5e-10\n",
            "3.969463130731183e-10\n",
            "4.877641290737885e-10\n",
            "4.877641290737885e-10\n",
            "3.9694631307311837e-10\n",
            "2.5000000000000007e-10\n",
            "1.0305368692688166e-10\n",
            "1.2235870926211617e-11\n",
            "1.223587092621159e-11\n",
            "1.0305368692688186e-10\n"
          ],
          "name": "stdout"
        }
      ]
    },
    {
      "cell_type": "markdown",
      "metadata": {
        "id": "HkmYYvw9IFd5"
      },
      "source": [
        "**SAMPLE OUTPUT**\n",
        "\n",
        "```\n",
        "2.5e-10\n",
        "3.969463130731183e-10\n",
        "4.877641290737885e-10\n",
        "4.877641290737885e-10\n",
        "3.9694631307311837e-10\n",
        "2.5000000000000007e-10\n",
        "1.0305368692688176e-10\n",
        "1.2235870926211617e-11\n",
        "1.223587092621159e-11\n",
        "1.0305368692688186e-10\n",
        "```"
      ]
    },
    {
      "cell_type": "markdown",
      "metadata": {
        "outputId": "813fbc61-32d8-453a-e0d2-54a0c3d96c14",
        "id": "7TdN3k43IFd5"
      },
      "source": [
        "[*Click for solution*](https://github.com/NeuromatchAcademy/course-content/tree/master//tutorials/W0D1_PythonWorkshop1/solutions/W0D1_Tutorial1_Solution_943bc60a.py)\n",
        "\n"
      ]
    },
    {
      "cell_type": "markdown",
      "metadata": {
        "id": "VqCGLawhIFd6"
      },
      "source": [
        "### Exercise 3\n",
        "Print formatting is handy for displaying simulation parameters in a clean and organized form. Python 3.6 introduced the new string formatting [f-strings](https://www.python.org/dev/peps/pep-0498). Since we are dealing with type `float` variables, we use `f'{x:.3f}'` for formatting `x` to three decimal points, and `f'{x:.4e}'` for four decimal points but in exponential notation.\n",
        "```\n",
        "x = 3.14159265e-1\n",
        "print(f'{x:.3f}')\n",
        "--> 0.314\n",
        "\n",
        "print(f'{x:.4e}')\n",
        "--> 3.1416e-01\n",
        "```\n",
        "\n",
        "Repeat the loop from the previous exercise and print the `t` values with three decimal points, and synaptic input $I(t)$ with four decimal points in exponential notation.\n",
        "\n",
        "For additional formatting options with f-strings see [here](http://zetcode.com/python/fstring/).\n",
        "\n",
        "**Suggestions**\n",
        "* Print `t` and `i` with help of *f-strings* formatting"
      ]
    },
    {
      "cell_type": "code",
      "metadata": {
        "colab": {
          "base_uri": "https://localhost:8080/"
        },
        "id": "4NgkArCAIFd6",
        "outputId": "2f2f4d8c-ddf6-4155-8a2b-a7988e8ea48c"
      },
      "source": [
        "# initialize step_end\n",
        "step_end = 10\n",
        "\n",
        "# loop for step_end steps\n",
        "for step in range(step_end):\n",
        "  t = step * dt\n",
        "  i = i_mean*(1+np.sin((2*np.pi/0.01)*t))\n",
        "  print(f'{t:.3f} {i:.4e}')\n",
        " "
      ],
      "execution_count": null,
      "outputs": [
        {
          "output_type": "stream",
          "text": [
            "0.000 2.5000e-10\n",
            "0.001 3.9695e-10\n",
            "0.002 4.8776e-10\n",
            "0.003 4.8776e-10\n",
            "0.004 3.9695e-10\n",
            "0.005 2.5000e-10\n",
            "0.006 1.0305e-10\n",
            "0.007 1.2236e-11\n",
            "0.008 1.2236e-11\n",
            "0.009 1.0305e-10\n"
          ],
          "name": "stdout"
        }
      ]
    },
    {
      "cell_type": "markdown",
      "metadata": {
        "id": "sLFFtzimIFd6"
      },
      "source": [
        "**SAMPLE OUTPUT**\n",
        "\n",
        "```\n",
        "0.000 2.5000e-10\n",
        "0.001 3.9695e-10\n",
        "0.002 4.8776e-10\n",
        "0.003 4.8776e-10\n",
        "0.004 3.9695e-10\n",
        "0.005 2.5000e-10\n",
        "0.006 1.0305e-10\n",
        "0.007 1.2236e-11\n",
        "0.008 1.2236e-11\n",
        "0.009 1.0305e-10\n",
        "```"
      ]
    },
    {
      "cell_type": "markdown",
      "metadata": {
        "outputId": "2caf4fb7-2c09-4a18-bcfb-d2fc35584e10",
        "id": "4O0SYCOvIFd6"
      },
      "source": [
        "[*Click for solution*](https://github.com/NeuromatchAcademy/course-content/tree/master//tutorials/W0D1_PythonWorkshop1/solutions/W0D1_Tutorial1_Solution_cae53962.py)\n",
        "\n"
      ]
    },
    {
      "cell_type": "markdown",
      "metadata": {
        "id": "rfOlk4pOIFd7"
      },
      "source": [
        "## ODE integration without spikes\n",
        "In the next exercises, we now simulate the evolution of the membrane equation in discrete time steps, with a sufficiently small $\\Delta t$.\n",
        "\n",
        "We start by writing the time derivative $d/dt\\,V(t)$ in the membrane equation without taking the limit $\\Delta t \\to 0$:\n",
        "\n",
        "\\begin{align*}\n",
        "\\\\\n",
        "\\tau_m\\,\\frac{V\\left(t+\\Delta t\\right)-V\\left(t\\right)}{\\Delta t} &= E_{L} - V(t) + R\\,I(t) \\qquad\\qquad (1)\\\\\n",
        "\\\\\n",
        "\\end{align*}\n",
        "\n",
        "The value of membrane potential $V\\left(t+\\Delta t\\right)$ can be expressed in terms of its previous value $V(t)$ by simple algebraic manipulation. For *small enough* values of $\\Delta t$, this provides a good approximation of the continuous-time integration.\n",
        "\n",
        "This operation is an integration since we obtain a sequence $\\{V(t), V(t+\\Delta t), V(t+2\\Delta t),...\\}$ starting from the ODE. Notice how the ODE describes the evolution of $\\frac{d}{dt}\\,V(t)$, the derivative of $V(t)$, but not directly the evolution of $V(t)$. For the evolution of $V(t)$ we need to integrate the ODE, and in this tutorial, we will do a discrete-time integration using the Euler method. See [Numerical methods for ordinary differential equations](https://en.wikipedia.org/wiki/Numerical_methods_for_ordinary_differential_equations) for additional details."
      ]
    },
    {
      "cell_type": "code",
      "metadata": {
        "cellView": "form",
        "colab": {
          "base_uri": "https://localhost:8080/",
          "height": 518
        },
        "id": "bRYCmzjuIFd7",
        "outputId": "e802e966-f8f6-4765-abe4-21ccd00ae6f1"
      },
      "source": [
        "# @title Video: Discrete time integration\n",
        "video = YouTubeVideo(id='kyCbeR28AYQ', width=854, height=480, fs=1)\n",
        "print(\"Video available at https://youtube.com/watch?v=\" + video.id)\n",
        "video"
      ],
      "execution_count": null,
      "outputs": [
        {
          "output_type": "stream",
          "text": [
            "Video available at https://youtube.com/watch?v=kyCbeR28AYQ\n"
          ],
          "name": "stdout"
        },
        {
          "output_type": "execute_result",
          "data": {
            "text/html": [
              "\n",
              "        <iframe\n",
              "            width=\"854\"\n",
              "            height=\"480\"\n",
              "            src=\"https://www.youtube.com/embed/kyCbeR28AYQ?fs=1\"\n",
              "            frameborder=\"0\"\n",
              "            allowfullscreen\n",
              "        ></iframe>\n",
              "        "
            ],
            "text/plain": [
              "<IPython.lib.display.YouTubeVideo at 0x7f5f67089d90>"
            ],
            "image/jpeg": "[encoded data removed]"
          },
          "metadata": {
            "tags": []
          },
          "execution_count": 20
        }
      ]
    },
    {
      "cell_type": "markdown",
      "metadata": {
        "id": "YBhep1LvIFd7"
      },
      "source": [
        "### Exercise 4\n",
        "Compute the values of $V(t)$ between $t=0$ and $t=0.01$ with step $\\Delta t=0.001$ and $V(0)=E_L$.\n",
        "\n",
        "We will write a `for` loop from scratch in this exercise. The following three formulations are all equivalent and loop for three steps:\n",
        "```\n",
        "for step in [0, 1, 2]:\n",
        "  print(step)\n",
        "\n",
        "for step in range(3):\n",
        "  print(step)\n",
        "\n",
        "start = 0\n",
        "end = 3\n",
        "stepsize = 1\n",
        "\n",
        "for step in range(start, end, stepsize):\n",
        "  print(step)\n",
        "```\n",
        "\n",
        "\n",
        "**Suggestions**\n",
        "* Reorganize the Eq. (1) to isolate $V\\left(t+\\Delta t\\right)$ on the left side, and express it as function of $V(t)$ and the other terms\n",
        "* Initialize the membrane potential variable `v` to leak potential `el`\n",
        "* Loop variable `step` for `10` steps\n",
        "* At each time step\n",
        "    * Compute the current value of `t`, `i`\n",
        "    * Print the current value of `t` and `v`\n",
        "    * Update the value of `v`"
      ]
    },
    {
      "cell_type": "code",
      "metadata": {
        "colab": {
          "base_uri": "https://localhost:8080/"
        },
        "id": "msyo-dmzIFd7",
        "outputId": "514e6258-8de6-4291-b5f7-b0b93c19c06c"
      },
      "source": [
        "# initialize step_end and v\n",
        "step_end = 10\n",
        "v = el\n",
        "\n",
        "\n",
        "# loop for step_end steps\n",
        "for step in range(step_end):\n",
        "  t = step * dt\n",
        "  i = i_mean*(1+np.sin((2*np.pi/0.01)*t))\n",
        "  print(f'{t:.3f} {v:.4e}')\n",
        "  v = v+dt*(el-v+r*i)/tau\n",
        "  "
      ],
      "execution_count": null,
      "outputs": [
        {
          "output_type": "stream",
          "text": [
            "0.000 -6.0000e-02\n",
            "0.001 -5.8750e-02\n",
            "0.002 -5.6828e-02\n",
            "0.003 -5.4548e-02\n",
            "0.004 -5.2381e-02\n",
            "0.005 -5.0778e-02\n",
            "0.006 -4.9989e-02\n",
            "0.007 -4.9974e-02\n",
            "0.008 -5.0414e-02\n",
            "0.009 -5.0832e-02\n"
          ],
          "name": "stdout"
        }
      ]
    },
    {
      "cell_type": "markdown",
      "metadata": {
        "id": "AAO916kBIFd8"
      },
      "source": [
        "**SAMPLE OUTPUT**\n",
        "\n",
        "```\n",
        "0.000 -6.0000e-02\n",
        "0.001 -5.8750e-02\n",
        "0.002 -5.6828e-02\n",
        "0.003 -5.4548e-02\n",
        "0.004 -5.2381e-02\n",
        "0.005 -5.0778e-02\n",
        "0.006 -4.9989e-02\n",
        "0.007 -4.9974e-02\n",
        "0.008 -5.0414e-02\n",
        "0.009 -5.0832e-02\n",
        "```"
      ]
    },
    {
      "cell_type": "markdown",
      "metadata": {
        "outputId": "8de4f552-d806-4946-e861-bc0a08d25c46",
        "id": "wPW8KLlMIFd8"
      },
      "source": [
        "[*Click for solution*](https://github.com/NeuromatchAcademy/course-content/tree/master//tutorials/W0D1_PythonWorkshop1/solutions/W0D1_Tutorial1_Solution_95c91766.py)\n",
        "\n"
      ]
    },
    {
      "cell_type": "code",
      "metadata": {
        "cellView": "form",
        "colab": {
          "base_uri": "https://localhost:8080/",
          "height": 518
        },
        "id": "CAeh7DoiIFd8",
        "outputId": "011d4a8a-9608-4bd4-f573-77b13f942eca"
      },
      "source": [
        "# @title Video: Plotting\n",
        "from IPython.display import YouTubeVideo\n",
        "video = YouTubeVideo(id='BOh8CsuTFkY', width=854, height=480, fs=1)\n",
        "print(\"Video available at https://youtube.com/watch?v=\" + video.id)\n",
        "video"
      ],
      "execution_count": null,
      "outputs": [
        {
          "output_type": "stream",
          "text": [
            "Video available at https://youtube.com/watch?v=BOh8CsuTFkY\n"
          ],
          "name": "stdout"
        },
        {
          "output_type": "execute_result",
          "data": {
            "text/html": [
              "\n",
              "        <iframe\n",
              "            width=\"854\"\n",
              "            height=\"480\"\n",
              "            src=\"https://www.youtube.com/embed/BOh8CsuTFkY?fs=1\"\n",
              "            frameborder=\"0\"\n",
              "            allowfullscreen\n",
              "        ></iframe>\n",
              "        "
            ],
            "text/plain": [
              "<IPython.lib.display.YouTubeVideo at 0x7f5f66b25290>"
            ],
            "image/jpeg": "[encoded data removed]"
          },
          "metadata": {
            "tags": []
          },
          "execution_count": 25
        }
      ]
    },
    {
      "cell_type": "markdown",
      "metadata": {
        "id": "VuSTBxEAIFd8"
      },
      "source": [
        "### Exercise 5\n",
        "![synaptic input discrete](https://github.com/mpbrigham/colaboratory-figures/raw/master/nma/python-for-nma/synaptic_input_discrete.png)\n",
        "\n",
        "Plot the values of $I(t)$ between $t=0$ and $t=0.024$.\n",
        "\n",
        "**Suggestions**\n",
        "* Increase `step_end`\n",
        "* initialize the figure with `plt.figure`, set title, x and y labels with `plt.title`, `plt.xlabel` and `plt.ylabel`, respectively\n",
        "* Replace printing command `print` with plotting command `plt.plot` with argument `'ko'` (short version for `color='k'` and `marker='o'`) for black small dots\n",
        "* Use `plt.show()` at the end to display the plot"
      ]
    },
    {
      "cell_type": "code",
      "metadata": {
        "colab": {
          "base_uri": "https://localhost:8080/",
          "height": 294
        },
        "id": "2NerEmc6IFd8",
        "outputId": "88914582-dff4-40c6-b90c-4885737b4895"
      },
      "source": [
        "# initialize step_end\n",
        "step_end = 25\n",
        "\n",
        "# initialize the figure\n",
        "plt.figure()\n",
        "# Complete these lines and uncomment\n",
        "plt.title('synaptic input')\n",
        "plt.xlabel('t')\n",
        "plt.ylabel('i')\n",
        "\n",
        "# loop for step_end steps\n",
        "for step in range(step_end):\n",
        "  t = step * dt\n",
        "  i = i_mean*(1+np.sin((2*np.pi/0.01)*t))\n",
        "  # Complete this line and uncomment\n",
        "  plt.plot(t,i,'ro')\n",
        "\n",
        "plt.show('t i')"
      ],
      "execution_count": null,
      "outputs": [
        {
          "output_type": "display_data",
          "data": {
            "image/png": "[encoded data removed]",
            "text/plain": [
              "<Figure size 432x288 with 1 Axes>"
            ]
          },
          "metadata": {
            "tags": [],
            "image/png": {
              "width": 387,
              "height": 277
            },
            "needs_background": "light"
          }
        }
      ]
    },
    {
      "cell_type": "markdown",
      "metadata": {
        "outputId": "44ff884b-e84e-46c7-9265-bbddb108125f",
        "id": "mxR43FFFIFd9"
      },
      "source": [
        "[*Click for solution*](https://github.com/NeuromatchAcademy/course-content/tree/master//tutorials/W0D1_PythonWorkshop1/solutions/W0D1_Tutorial1_Solution_23446a7e.py)\n",
        "\n",
        "*Example output:*\n",
        "\n",
        "<img alt='Solution hint' align='left' width=559 height=416 src=https://raw.githubusercontent.com/NeuromatchAcademy/course-content/master/tutorials/W0D1_PythonWorkshop1/static/W0D1_Tutorial1_Solution_23446a7e_0.png>\n",
        "\n"
      ]
    },
    {
      "cell_type": "markdown",
      "metadata": {
        "id": "pwVZpE4RIFd9"
      },
      "source": [
        "### Exercise 6\n",
        "Plot the values of $V(t)$ between $t=0$ and $t=t_{max}$.\n",
        "\n",
        "**Suggestions**\n",
        "* Compute the required number of steps with`int(t_max/dt)`\n",
        "* Use plotting command for black small(er) dots with argument `'k.'`"
      ]
    },
    {
      "cell_type": "code",
      "metadata": {
        "id": "Cl9uWSNSIFd9",
        "colab": {
          "base_uri": "https://localhost:8080/",
          "height": 295
        },
        "outputId": "1a518c6c-e204-4733-a369-d17f1178f398"
      },
      "source": [
        "# initialize step_end and v\n",
        "t_max = 150e-3\n",
        "step_end = int(t_max / dt)\n",
        "v = el\n",
        "\n",
        "# initialize the figure\n",
        "plt.figure()\n",
        "plt.title('$V_m$ with sinusoidal I(t)')\n",
        "plt.xlabel('time (s)')\n",
        "plt.ylabel('$V_m$ (V)');\n",
        "\n",
        "# loop for step_end steps\n",
        "for step in range(step_end):\n",
        "  t = step * dt\n",
        "  i = i_mean*(1+np.sin((2*np.pi/0.01)*t))\n",
        "  # Complete this line and uncomment\n",
        "  plt.plot(t,v,'k.')\n",
        "\n",
        "  v = v+dt*(el-v+r*i)/tau\n",
        "\n",
        "t = t + dt\n",
        "# Complete this line and uncomment\n",
        "plt.plot(t,v,'k')\n",
        "plt.show('t v')"
      ],
      "execution_count": null,
      "outputs": [
        {
          "output_type": "display_data",
          "data": {
            "image/png": "[encoded data removed]",
            "text/plain": [
              "<Figure size 432x288 with 1 Axes>"
            ]
          },
          "metadata": {
            "tags": [],
            "image/png": {
              "width": 408,
              "height": 278
            },
            "needs_background": "light"
          }
        }
      ]
    },
    {
      "cell_type": "markdown",
      "metadata": {
        "outputId": "9d78efa0-4ec3-4c00-da8e-2b10609e101e",
        "id": "n3emo51VIFd9"
      },
      "source": [
        "[*Click for solution*](https://github.com/NeuromatchAcademy/course-content/tree/master//tutorials/W0D1_PythonWorkshop1/solutions/W0D1_Tutorial1_Solution_1046fd94.py)\n",
        "\n",
        "*Example output:*\n",
        "\n",
        "<img alt='Solution hint' align='left' width=560 height=416 src=https://raw.githubusercontent.com/NeuromatchAcademy/course-content/master/tutorials/W0D1_PythonWorkshop1/static/W0D1_Tutorial1_Solution_1046fd94_0.png>\n",
        "\n"
      ]
    },
    {
      "cell_type": "markdown",
      "metadata": {
        "id": "3-sabF6tIFd9"
      },
      "source": [
        "---\n",
        "## Random synaptic input\n",
        "From the perspective of neurons, synaptic input is random (or stochastic). We'll improve the synaptic input model by introducing random input current with statistical properties similar to the previous exercise:\n",
        "\n",
        "\\begin{align*}\n",
        "\\\\\n",
        "I(t)=I_{mean}\\left(1+0.1\\sqrt{\\frac{t_{max}}{\\Delta t}}\\,\\xi(t)\\right)\\qquad\\text{with }\\xi(t)\\sim U(-1,1)\\\\\n",
        "\\\\\n",
        "\\end{align*}\n",
        "\n",
        "where $U(-1,1)$ is the [uniform distribution](https://en.wikipedia.org/wiki/Uniform_distribution_(continuous)) with support $x\\in[-1,1]$.\n",
        "\n",
        "Random synaptic input $I(t)$ results in random time course for $V(t)$."
      ]
    },
    {
      "cell_type": "markdown",
      "metadata": {
        "id": "sJlKZL5kIFd-"
      },
      "source": [
        "### Exercise 7\n",
        "Plot the values of $V(t)$ between $t=0$ and $t=t_{max}-\\Delta t$ with random input $I(t)$.\n",
        "\n",
        "Initialize the (pseudo) random number generator (RNG) to a fixed value to obtain the same random input each time.\n",
        "\n",
        "The function `np.random.seed()` initializes the RNG, and `np.random.random()` generates samples from the uniform distribution between `0` and `1`.\n",
        "\n",
        "**Suggestions**\n",
        "* Use `np.random.seed()` to initialize the RNG to `0`\n",
        "* Use `np.random.random()` to generate random input in range `[0,1]` at each timestep\n",
        "* Multiply random input by an appropriate factor to expand the range to `[-1,1]`\n",
        "* Verify that $V(t)$ has a random time course by changing the initial RNG value\n",
        "* Alternatively, comment RNG initialization by typing `CTRL` + `\\` in the relevant line"
      ]
    },
    {
      "cell_type": "code",
      "metadata": {
        "id": "it61d0w5IFd-"
      },
      "source": [
        "# set random number generator\n",
        "np.random.seed(2020)\n",
        "\n",
        "# initialize step_end and v\n",
        "step_end = int(t_max / dt)\n",
        "v = el\n",
        "\n",
        "# initialize the figure\n",
        "plt.figure()\n",
        "plt.title('$V_m$ with random I(t)')\n",
        "plt.xlabel('time (s)')\n",
        "plt.ylabel('$V_m$ (V)')\n",
        "\n",
        "# loop for step_end steps\n",
        "for step in range(step_end):\n",
        "  t = step * dt\n",
        "  # Complete this line and uncomment\n",
        "  # plt.plot(...)\n",
        "\n",
        "  i = ...\n",
        "  v = ...\n",
        "\n",
        "plt.show()"
      ],
      "execution_count": null,
      "outputs": []
    },
    {
      "cell_type": "markdown",
      "metadata": {
        "outputId": "286f8b5d-88e8-4676-c02f-f40609974193",
        "id": "wLoewyaAIFd-"
      },
      "source": [
        "[*Click for solution*](https://github.com/NeuromatchAcademy/course-content/tree/master//tutorials/W0D1_PythonWorkshop1/solutions/W0D1_Tutorial1_Solution_41355f96.py)\n",
        "\n",
        "*Example output:*\n",
        "\n",
        "<img alt='Solution hint' align='left' width=560 height=416 src=https://raw.githubusercontent.com/NeuromatchAcademy/course-content/master/tutorials/W0D1_PythonWorkshop1/static/W0D1_Tutorial1_Solution_41355f96_1.png>\n",
        "\n"
      ]
    },
    {
      "cell_type": "markdown",
      "metadata": {
        "id": "QRkAmA6lIFd-"
      },
      "source": [
        "## Ensemble statistics\n",
        "Multiple runs of the previous exercise may give the impression of periodic regularity in the evolution of $V(t)$. We'll collect the sample mean over $N=50$ realizations of $V(t)$  with random input to test such a hypothesis. The sample mean, sample variance and sample autocovariance at times $\\left\\{t, s\\right\\}\\in[0,t_{max}]$, and for $N$ realizations $V_n(t)$ are given by:\n",
        "\n",
        "\\begin{align*}\n",
        "\\\\\n",
        "\\left\\langle V(t)\\right\\rangle &= \\frac{1}{N}\\sum_{n=1}^N V_n(t) & & \\text{sample mean}\\\\\n",
        "\\left\\langle (V(t)-\\left\\langle V(t)\\right\\rangle)^2\\right\\rangle &= \\frac{1}{N-1} \\sum_{n=1}^N \\left(V_n(t)-\\left\\langle V(t)\\right\\rangle\\right)^2 & & \\text{sample variance} \\\\\n",
        "\\left\\langle \\left(V(t)-\\left\\langle V(t)\\right\\rangle\\right)\\left(V(s)-\\left\\langle V(s)\\right\\rangle\\right)\\right\\rangle\n",
        "&= \\frac{1}{N-1} \\sum_{n=1}^N \\left(V_n(t)-\\left\\langle V(t)\\right\\rangle\\right)\\left(V_n(s)-\\left\\langle V(s)\\right\\rangle\\right) & & \\text{sample autocovariance}\\\\\n",
        "\\\\\n",
        "\\end{align*}"
      ]
    },
    {
      "cell_type": "code",
      "metadata": {
        "cellView": "form",
        "id": "40-r4iHRIFd-"
      },
      "source": [
        "# @title Video: Ensemble statistics\n",
        "video = YouTubeVideo(id='4nIAS2oPEFI', width=854, height=480, fs=1)\n",
        "print(\"Video available at https://youtube.com/watch?v=\" + video.id)\n",
        "video"
      ],
      "execution_count": null,
      "outputs": []
    },
    {
      "cell_type": "markdown",
      "metadata": {
        "id": "ZglRoyHBIFd-"
      },
      "source": [
        "### Exercise 8\n",
        "Plot multiple realizations ($N=50$) of $V(t)$ by storing in a list the voltage of each neuron at time $t$.\n",
        "\n",
        "Keep in mind that the plotting command `plt.plot(x, y)` requires `x` to have the same number of elements as `y`.\n",
        "\n",
        "Mathematical symbols such as $\\alpha$ and $\\beta$ are specified as `$\\alpha$` and `$\\beta$` in [TeX markup](https://en.wikipedia.org/wiki/TeX). See additional details in [Writing mathematical expressions](https://matplotlib.org/3.2.2/tutorials/text/mathtext.html) in Matplotlib.\n",
        "\n",
        "**Suggestions**\n",
        "* Initialize a list `v_n` with `50` values of membrane leak potential `el`\n",
        "* At each time step:\n",
        "  * Plot `v_n` with argument `'k.'` and parameter `alpha=0.05` to adjust the transparency (by default, `alpha=1`)\n",
        "  * In the plot command, replace `t` from the previous exercises with a list of size `n` with values `t`\n",
        "  * Loop over `50` realizations of random input\n",
        "  * Update `v_n` with the values of $V(t)$\n",
        "\n",
        "* Why is there a black dot at $t=0$?"
      ]
    },
    {
      "cell_type": "code",
      "metadata": {
        "id": "inw6jGqwIFd_"
      },
      "source": [
        "# set random number generator\n",
        "np.random.seed(2020)\n",
        "\n",
        "# initialize step_end, n and v_n\n",
        "step_end = int(t_max / dt)\n",
        "n = 50\n",
        "# Complete this line and uncomment\n",
        "# v_n = ...\n",
        "\n",
        "# initialize the figure\n",
        "plt.figure()\n",
        "plt.title('Multiple realizations of $V_m$')\n",
        "plt.xlabel('time (s)')\n",
        "plt.ylabel('$V_m$ (V)')\n",
        "\n",
        "# loop for step_end steps\n",
        "for step in range(step_end):\n",
        "  t = step * dt\n",
        "  # Complete this line and uncomment\n",
        "  # plt.plot(...)\n",
        "\n",
        "  # loop for n steps\n",
        "  for j in range(0, n):\n",
        "    i = ...\n",
        "    # Complete this line and uncomment\n",
        "    # v_n[j] = ...\n",
        "\n",
        "plt.show()"
      ],
      "execution_count": null,
      "outputs": []
    },
    {
      "cell_type": "markdown",
      "metadata": {
        "outputId": "fb35c800-27e9-4860-8c04-a99c754d6004",
        "id": "phHG3dStIFd_"
      },
      "source": [
        "[*Click for solution*](https://github.com/NeuromatchAcademy/course-content/tree/master//tutorials/W0D1_PythonWorkshop1/solutions/W0D1_Tutorial1_Solution_8b55f5dd.py)\n",
        "\n",
        "*Example output:*\n",
        "\n",
        "<img alt='Solution hint' align='left' width=558 height=413 src=https://raw.githubusercontent.com/NeuromatchAcademy/course-content/master/tutorials/W0D1_PythonWorkshop1/static/W0D1_Tutorial1_Solution_8b55f5dd_0.png>\n",
        "\n"
      ]
    },
    {
      "cell_type": "markdown",
      "metadata": {
        "id": "PlCHdOrBIFd_"
      },
      "source": [
        "### Exercise 9\n",
        "Add the sample mean $\\left\\langle V(t)\\right\\rangle=\\frac{1}{N}\\sum_{n=1}^N V_n(t)$ to the plot.\n",
        "\n",
        "**Suggestions**\n",
        "* At each timestep:\n",
        "  * Compute and store in `v_mean` the sample mean $\\left\\langle V(t)\\right\\rangle$ by summing the values of list `v_n` with `sum` and dividing by `n`\n",
        "  * Plot $\\left\\langle V(t)\\right\\rangle$ with `alpha=0.8` and argument `'C0.'` for blue (you can read more about [specifying colors](https://matplotlib.org/tutorials/colors/colors.html#sphx-glr-tutorials-colors-colors-py))\n",
        "  * Loop over `50` realizations of random input\n",
        "  * Update `v_n` with the values of $V(t)$"
      ]
    },
    {
      "cell_type": "code",
      "metadata": {
        "id": "R2CSSumqIFd_"
      },
      "source": [
        "# set random number generator\n",
        "np.random.seed(2020)\n",
        "\n",
        "# initialize step_end, n and v_n\n",
        "step_end = int(t_max / dt)\n",
        "n = 50\n",
        "v_n = [el] * n\n",
        "\n",
        "# initialize the figure\n",
        "plt.figure()\n",
        "plt.title('Multiple realizations of $V_m$')\n",
        "plt.xlabel('time (s)')\n",
        "plt.ylabel('$V_m$ (V)')\n",
        "\n",
        "# loop for step_end steps\n",
        "for step in range(step_end):\n",
        "  t = step * dt\n",
        "\n",
        "  v_mean = ...\n",
        "  # Complete these lines and uncomment\n",
        "  # plt.plot(...)\n",
        "  # plt.plot(...)\n",
        "\n",
        "  for j in range(0, n):\n",
        "    i = ...\n",
        "    v_n[j] = ...\n",
        "\n",
        "plt.show()"
      ],
      "execution_count": null,
      "outputs": []
    },
    {
      "cell_type": "markdown",
      "metadata": {
        "outputId": "6dbbe907-2fb2-4792-bcbc-d05b175fef19",
        "id": "kDPArnr-IFd_"
      },
      "source": [
        "[*Click for solution*](https://github.com/NeuromatchAcademy/course-content/tree/master//tutorials/W0D1_PythonWorkshop1/solutions/W0D1_Tutorial1_Solution_98017570.py)\n",
        "\n",
        "*Example output:*\n",
        "\n",
        "<img alt='Solution hint' align='left' width=558 height=413 src=https://raw.githubusercontent.com/NeuromatchAcademy/course-content/master/tutorials/W0D1_PythonWorkshop1/static/W0D1_Tutorial1_Solution_98017570_0.png>\n",
        "\n"
      ]
    },
    {
      "cell_type": "markdown",
      "metadata": {
        "id": "lByCy2JpIFd_"
      },
      "source": [
        "### Exercise 10\n",
        "Add the sample standard deviation $\\sigma(t)\\equiv\\sqrt{\\text{Var}\\left(t\\right)}$ to the plot, with sample variance $\\text{Var}(t) = \\frac{1}{N-1} \\sum_{n=1}^N \\left(V_n(t)-\\left\\langle V(t)\\right\\rangle\\right)^2$.\n",
        "\n",
        "Use a list comprehension to collect the sample variance `v_var`. Here's an example to initialize a list with squares of `0` to `9`:\n",
        "```\n",
        "squares = [x**2 for x in range(10)]\n",
        "print(squares)\n",
        "--> [0, 1, 4, 9, 16, 25, 36, 49, 64, 81]\n",
        "```\n",
        "\n",
        "Why are we plotting $\\sigma(t)$ rather than the $\\text{Var}(t)$? What are the units of each and the units of $\\left\\langle V(t)\\right\\rangle$?\n",
        "\n",
        "**Suggestions**\n",
        "* At each timestep:\n",
        "  * Compute and store in `v_mean` the sample mean $\\left\\langle V(t)\\right\\rangle$\n",
        "  * Initialize a list `v_var_n` with the contribution of each $V_n(t)$ to $\\text{Var}\\left(t\\right)$ with a list comprehension over values of `v_n`\n",
        "  * Compute sample variance `v_var` by summing the values of `v_var_n` with `sum` and dividing by `n-1`\n",
        "  * (alternative: loop over the values of `v_n` and add to `v_var` each contribution $V_n(t)$ and divide by `n-1` outside the loop)\n",
        "  * Compute the standard deviation `v_std` with the function `np.sqrt`\n",
        "  * Plot $\\left\\langle V(t)\\right\\rangle\\pm\\sigma(t)$ with `alpha=0.8` and argument `'C7.'`"
      ]
    },
    {
      "cell_type": "code",
      "metadata": {
        "id": "JAp3uG0jIFeA"
      },
      "source": [
        "# set random number generator\n",
        "np.random.seed(2020)\n",
        "\n",
        "# initialize step_end, n and v_n\n",
        "step_end = int(t_max / dt)\n",
        "n = 50\n",
        "v_n = [el] * n\n",
        "\n",
        "# initialize the figure\n",
        "plt.figure()\n",
        "plt.title('Multiple realizations of $V_m$')\n",
        "plt.xlabel('time (s)')\n",
        "plt.ylabel('$V_m$ (V)')\n",
        "\n",
        "# loop for step_end steps\n",
        "for step in range(step_end):\n",
        "  t = step * dt\n",
        "\n",
        "  v_mean = ...\n",
        "  v_var_n = ...\n",
        "  v_var = ...\n",
        "  v_std = ...\n",
        "\n",
        "  # Complete these lines and uncomment\n",
        "  # plt.plot(...)\n",
        "  # plt.plot(...)\n",
        "  # plt.plot(...)\n",
        "  # plt.plot(...)\n",
        "\n",
        "  for j in range(0, n):\n",
        "    i = ...\n",
        "    v_n[j] = ...\n",
        "\n",
        "plt.show()"
      ],
      "execution_count": null,
      "outputs": []
    },
    {
      "cell_type": "markdown",
      "metadata": {
        "outputId": "b1e08e79-23bd-424b-82e6-f40044d01ffd",
        "id": "iZF0LIfmIFeA"
      },
      "source": [
        "[*Click for solution*](https://github.com/NeuromatchAcademy/course-content/tree/master//tutorials/W0D1_PythonWorkshop1/solutions/W0D1_Tutorial1_Solution_9e048e4b.py)\n",
        "\n",
        "*Example output:*\n",
        "\n",
        "<img alt='Solution hint' align='left' width=558 height=413 src=https://raw.githubusercontent.com/NeuromatchAcademy/course-content/master/tutorials/W0D1_PythonWorkshop1/static/W0D1_Tutorial1_Solution_9e048e4b_0.png>\n",
        "\n"
      ]
    },
    {
      "cell_type": "markdown",
      "metadata": {
        "id": "rZiVTy2PIFeA"
      },
      "source": [
        "---\n",
        "## Using NumPy\n",
        "The next set of exercises introduces `np.array`, the workhorse from the scientific computation package [NumPy](https://numpy.org). Numpy arrays the default for numerical data storage and computation and will separate computing steps from plotting.\n",
        "\n",
        "![NumPy package](https://github.com/mpbrigham/colaboratory-figures/raw/master/nma/python-for-nma/numpy_logo_small.png)\n",
        "\n",
        "We updated plots inside the main loop in the previous exercises and stored intermediate results in lists for plotting them. The purpose was to simplify earlier exercises as much as possible. However, there are very few scenarios where this technique is necessary, and you should avoid it in the future. Using numpy arrays will significantly simplify our coding narrative by computing inside the main loop and plotting afterward.\n",
        "\n",
        "Lists are much more natural for storing data for other purposes than computation. For example, lists are handy for storing numerical indexes and text."
      ]
    },
    {
      "cell_type": "code",
      "metadata": {
        "cellView": "form",
        "id": "Ndw8yNflIFeA"
      },
      "source": [
        "# @title Video: Using NumPy\n",
        "video = YouTubeVideo(id='ewyHKKa2_OU', width=854, height=480, fs=1)\n",
        "print(\"Video available at https://youtube.com/watch?v=\" + video.id)\n",
        "video"
      ],
      "execution_count": null,
      "outputs": []
    },
    {
      "cell_type": "markdown",
      "metadata": {
        "id": "l9Eez12FIFeA"
      },
      "source": [
        "### Exercise 11\n",
        "Rewrite the single neuron plot with random input from _Exercise 7_ with numpy arrays. The time range, voltage values, and synaptic current are initialized or pre-computed as numpy arrays before numerical integration.\n",
        "\n",
        "**Suggestions**\n",
        "* Use `np.linspace` to initialize a numpy array `t_range` with `num=step_end=150` values from `0` to `t_max`\n",
        "* Use `np.ones` to initialize a numpy array `v` with `step_end + 1` leak potential values `el`\n",
        "* Pre-compute `step_end` synaptic current values in numpy array `syn` with `np.random.random(step_end)` for `step_end` random numbers\n",
        "* Iterate for numerical integration of `v`\n",
        "* Since `v[0]=el`, we should iterate for `step_end` steps, for example by skipping `step=0`. Why?"
      ]
    },
    {
      "cell_type": "code",
      "metadata": {
        "id": "S43RMYqYIFeB"
      },
      "source": [
        "# set random number generator\n",
        "np.random.seed(2020)\n",
        "\n",
        "# initialize step_end, t_range, v and syn\n",
        "step_end = int(t_max / dt) - 1\n",
        "# skip the endpoint to match Exercise 7 plot\n",
        "t_range = np.linspace(0, t_max, num=step_end, endpoint=False)\n",
        "v = el * np.ones(step_end)\n",
        "syn = ...\n",
        "\n",
        "# loop for step_end - 1 steps\n",
        "# Complete these lines and uncomment\n",
        "# for step in range(1, step_end):\n",
        "  # v[step] = ...\n",
        "\n",
        "\n",
        "plt.figure()\n",
        "plt.title('$V_m$ with random I(t)')\n",
        "plt.xlabel('time (s)')\n",
        "plt.ylabel('$V_m$ (V)')\n",
        "\n",
        "plt.plot(t_range, v, 'k.')\n",
        "plt.show()"
      ],
      "execution_count": null,
      "outputs": []
    },
    {
      "cell_type": "markdown",
      "metadata": {
        "outputId": "7c1f0969-8187-4e57-9f37-25f691e2a065",
        "id": "DDCgTWM7IFeB"
      },
      "source": [
        "[*Click for solution*](https://github.com/NeuromatchAcademy/course-content/tree/master//tutorials/W0D1_PythonWorkshop1/solutions/W0D1_Tutorial1_Solution_4427a815.py)\n",
        "\n",
        "*Example output:*\n",
        "\n",
        "<img alt='Solution hint' align='left' width=560 height=416 src=https://raw.githubusercontent.com/NeuromatchAcademy/course-content/master/tutorials/W0D1_PythonWorkshop1/static/W0D1_Tutorial1_Solution_4427a815_0.png>\n",
        "\n"
      ]
    },
    {
      "cell_type": "markdown",
      "metadata": {
        "id": "JbW0kzEiIFeB"
      },
      "source": [
        "### Exercise 12\n",
        "Let's practice using `enumerate` to iterate over the indexes and values of the synaptic current array `syn`.\n",
        "\n",
        "**Suggestions**\n",
        "* Iterate indexes and values of `syn` with `enumerate` in the `for` loop\n",
        "* Plot `v` with argument `'k'` for displaying a line instead of dots"
      ]
    },
    {
      "cell_type": "code",
      "metadata": {
        "id": "z5JHrp7rIFeB"
      },
      "source": [
        "# set random number generator\n",
        "np.random.seed(2020)\n",
        "\n",
        "# initialize step_end, t_range, v and syn\n",
        "step_end = int(t_max / dt)\n",
        "t_range = np.linspace(0, t_max, num=step_end)\n",
        "v = el * np.ones(step_end)\n",
        "syn = i_mean * (1 + 0.1 * (t_max / dt)**(0.5) * (2 * np.random.random(step_end) - 1))\n",
        "\n",
        "# loop for step_end values of syn\n",
        "for step, i in enumerate(syn):\n",
        "  # skip first iteration\n",
        "  if step==0:\n",
        "    continue\n",
        "  # Complete this line and uncomment\n",
        "  # v[step] = ...\n",
        "\n",
        "plt.figure()\n",
        "plt.title('$V_m$ with random I(t)')\n",
        "plt.xlabel('time (s)')\n",
        "plt.ylabel('$V_m$ (V)')\n",
        "\n",
        "plt.plot(t_range, v, 'k')\n",
        "plt.show()"
      ],
      "execution_count": null,
      "outputs": []
    },
    {
      "cell_type": "markdown",
      "metadata": {
        "outputId": "b5a21947-570e-467a-9fc7-3e622be3feb6",
        "id": "vFS6EkvGIFeB"
      },
      "source": [
        "[*Click for solution*](https://github.com/NeuromatchAcademy/course-content/tree/master//tutorials/W0D1_PythonWorkshop1/solutions/W0D1_Tutorial1_Solution_4139f63a.py)\n",
        "\n",
        "*Example output:*\n",
        "\n",
        "<img alt='Solution hint' align='left' width=560 height=416 src=https://raw.githubusercontent.com/NeuromatchAcademy/course-content/master/tutorials/W0D1_PythonWorkshop1/static/W0D1_Tutorial1_Solution_4139f63a_0.png>\n",
        "\n"
      ]
    },
    {
      "cell_type": "code",
      "metadata": {
        "cellView": "form",
        "id": "U7l1dDCvIFeB"
      },
      "source": [
        "# @title Video: Aggregation\n",
        "video = YouTubeVideo(id='1ME-0rJXLFg', width=854, height=480, fs=1)\n",
        "print(\"Video available at https://youtube.com/watch?v=\" + video.id)\n",
        "video"
      ],
      "execution_count": null,
      "outputs": []
    },
    {
      "cell_type": "markdown",
      "metadata": {
        "id": "QY57tO_aIFeB"
      },
      "source": [
        "### Exercise 13\n",
        "Plot multiple realizations ($N=50$) of $V(t)$ by storing the voltage of each neuron at time $t$ in a numpy array.\n",
        "\n",
        "**Suggestions**\n",
        "* Initialize a numpy array `v_n` of shape `(n, step_end)` with membrane leak potential values `el`\n",
        "* Pre-compute synaptic current values in numpy array `syn` of shape `(n, step_end)`\n",
        "* Iterate `step_end` steps with a `for` loop for numerical integration\n",
        "* Plot results with a single plot command, by providing `v_n.T` to the plot function. `v_n.T` is the transposed version of `v_n` (with rows and columns swapped)."
      ]
    },
    {
      "cell_type": "code",
      "metadata": {
        "id": "PTJf72znIFeC"
      },
      "source": [
        "# set random number generator\n",
        "np.random.seed(2020)\n",
        "\n",
        "# initialize step_end, n, t_range, v and syn\n",
        "step_end = int(t_max / dt)\n",
        "n = 50\n",
        "t_range = np.linspace(0, t_max, num=step_end)\n",
        "v_n = el * np.ones([n, step_end])\n",
        "syn = ...\n",
        "\n",
        "# loop for step_end - 1 steps\n",
        "# Complete these lines and uncomment\n",
        "# for step in range(1, step_end):\n",
        "  # v_n[:, step] = ...\n",
        "\n",
        "# initialize the figure\n",
        "plt.figure()\n",
        "plt.title('Multiple realizations of $V_m$')\n",
        "plt.xlabel('time (s)')\n",
        "plt.ylabel('$V_m$ (V)')\n",
        "\n",
        "# Complete this line and uncomment\n",
        "# plt.plot(...)\n",
        "plt.show()"
      ],
      "execution_count": null,
      "outputs": []
    },
    {
      "cell_type": "markdown",
      "metadata": {
        "outputId": "a1383bbc-39ab-4eba-f7a4-3c639a9b7029",
        "id": "wxZ3RiRHIFeC"
      },
      "source": [
        "[*Click for solution*](https://github.com/NeuromatchAcademy/course-content/tree/master//tutorials/W0D1_PythonWorkshop1/solutions/W0D1_Tutorial1_Solution_e8466b6b.py)\n",
        "\n",
        "*Example output:*\n",
        "\n",
        "<img alt='Solution hint' align='left' width=560 height=416 src=https://raw.githubusercontent.com/NeuromatchAcademy/course-content/master/tutorials/W0D1_PythonWorkshop1/static/W0D1_Tutorial1_Solution_e8466b6b_0.png>\n",
        "\n"
      ]
    },
    {
      "cell_type": "markdown",
      "metadata": {
        "id": "box1dh_jIFeC"
      },
      "source": [
        "### Exercise 14\n",
        "Add sample mean $\\left\\langle V(t)\\right\\rangle$ and standard deviation $\\sigma(t)\\equiv\\sqrt{\\text{Var}\\left(t\\right)}$ to the plot.\n",
        "\n",
        "`np.mean(v_n, axis=0)` computes mean over rows, i.e. mean for each neuron\n",
        "\n",
        "`np.mean(v_n, axis=1)` computes mean over columns (axis `1`), i.e. mean for each time step\n",
        "\n",
        "**Suggestions**\n",
        "* Use `np.mean` and `np.std` with `axis=0` to sum over neurons\n",
        "* Use `label` argument in `plt.plot` to specify labels in each trace. Label only the last voltage trace to avoid labeling all `N` of them."
      ]
    },
    {
      "cell_type": "code",
      "metadata": {
        "id": "yYWPWEH2IFeC"
      },
      "source": [
        "# set random number generator\n",
        "np.random.seed(2020)\n",
        "\n",
        "# initialize step_end, n, t_range, v and syn\n",
        "step_end = int(t_max / dt)\n",
        "n = 50\n",
        "t_range = np.linspace(0, t_max, num=step_end)\n",
        "v_n = el * np.ones([n, step_end])\n",
        "syn = i_mean * (1 + 0.1 * (t_max / dt)**(0.5) * (2 * np.random.random([n, step_end]) - 1))\n",
        "\n",
        "# loop for step_end - 1 steps\n",
        "for step in range(1, step_end):\n",
        "  v_n[:,step] = v_n[:,step - 1] + (dt / tau) * (el - v_n[:, step - 1] + r * syn[:, step])\n",
        "\n",
        "v_mean = ...\n",
        "v_std = ...\n",
        "\n",
        "# initialize the figure\n",
        "plt.figure()\n",
        "plt.title('Multiple realizations of $V_m$')\n",
        "plt.xlabel('time (s)')\n",
        "plt.ylabel('$V_m$ (V)')\n",
        "\n",
        "plt.plot(t_range, v_n[:-1].T, 'k', alpha=0.3)\n",
        "\n",
        "# Complete these lines and uncomment\n",
        "# plt.plot(t_range, v_n[-1], 'k', alpha=0.3, label=...)\n",
        "# plt.plot(t_range, ..., 'C0', alpha=0.8, label='mean')\n",
        "# plt.plot(t_range, ..., 'C7', alpha=0.8)\n",
        "# plt.plot(t_range, ..., 'C7', alpha=0.8, label=...)\n",
        "\n",
        "#plt.legend()\n",
        "plt.show()"
      ],
      "execution_count": null,
      "outputs": []
    },
    {
      "cell_type": "markdown",
      "metadata": {
        "outputId": "d8101c7c-95b8-421b-9331-2c9d3d1242a2",
        "id": "VU4z6bjAIFeC"
      },
      "source": [
        "[*Click for solution*](https://github.com/NeuromatchAcademy/course-content/tree/master//tutorials/W0D1_PythonWorkshop1/solutions/W0D1_Tutorial1_Solution_061d112f.py)\n",
        "\n",
        "*Example output:*\n",
        "\n",
        "<img alt='Solution hint' align='left' width=560 height=416 src=https://raw.githubusercontent.com/NeuromatchAcademy/course-content/master/tutorials/W0D1_PythonWorkshop1/static/W0D1_Tutorial1_Solution_061d112f_0.png>\n",
        "\n"
      ]
    }
  ]
}